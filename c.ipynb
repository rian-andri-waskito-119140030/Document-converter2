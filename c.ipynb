{
 "cells": [
  {
   "cell_type": "code",
   "execution_count": 1,
   "id": "971773f1",
   "metadata": {},
   "outputs": [],
   "source": [
    "import requests\n",
    "import os"
   ]
  },
  {
   "cell_type": "code",
   "execution_count": 2,
   "id": "cb12a2e7",
   "metadata": {},
   "outputs": [],
   "source": [
    "bearer_token = \"AAAAAAAAAAAAAAAAAAAAAK6LaAEAAAAAlKfsRyQtkhkOroVbGsneEDTyDWY%3D3ELGPxJxEzfT0gQ0Qd27dslJ3LA8dG4cGvKH77UJsoNW3VkKca\""
   ]
  },
  {
   "cell_type": "code",
   "execution_count": 3,
   "id": "ffdfaf08",
   "metadata": {},
   "outputs": [],
   "source": [
    "# Header otorisasi\n",
    "headers = {\n",
    "    \"Authorization\": f\"Bearer {bearer_token}\"\n",
    "}"
   ]
  },
  {
   "cell_type": "code",
   "execution_count": 4,
   "id": "af8e3347",
   "metadata": {},
   "outputs": [],
   "source": [
    "query = \"nod krai\"\n",
    "url = f\"https://api.twitter.com/2/tweets/search/recent?query={query}&max_results=10\""
   ]
  },
  {
   "cell_type": "code",
   "execution_count": 5,
   "id": "6ee57260",
   "metadata": {},
   "outputs": [],
   "source": [
    "# Kirim permintaan ke API\n",
    "response = requests.get(url, headers=headers)"
   ]
  },
  {
   "cell_type": "code",
   "execution_count": 6,
   "id": "096879ac",
   "metadata": {},
   "outputs": [
    {
     "name": "stdout",
     "output_type": "stream",
     "text": [
      "1. Tweet ID: 1949640207881703772\n",
      "   Teks    : e quando nod krai tiver na 6.5 e todo mundo aclamar natlan e sentir saudades https://t.co/FxRSklFedy\n",
      "\n",
      "2. Tweet ID: 1949639823414972566\n",
      "   Teks    : oh mierdamouche do nod krai... https://t.co/mEivpzSjWw https://t.co/MYrQJZ1PeQ\n",
      "\n",
      "3. Tweet ID: 1949639738140627370\n",
      "   Teks    : RT @Taoo_29: @babufess Liyue Qixing\n",
      "Adeptus\n",
      "Kapten2 Favonius yang dibawa Varka\n",
      "Venessa\n",
      "Yokai\n",
      "Dewa yang kabur ke Dark sea\n",
      "K.K\n",
      "Phanes\n",
      "Dragon…\n",
      "\n",
      "4. Tweet ID: 1949639711992995971\n",
      "   Teks    : RT @diracshores: the traveller breaks into the Fatui stronghold in Nod Krai to rescue Wanda only to find him with Dottore like this\n",
      "\n",
      "5. Tweet ID: 1949639656624226671\n",
      "   Teks    : RT @itz_kiis: the way we might never get these types of silly expressions again bc nod krai is gonna be more serious. oh natlan I will miss…\n",
      "\n",
      "6. Tweet ID: 1949639632372596913\n",
      "   Teks    : RT @kleecharts: alice pinkpantheress em nod krai indo encontrar alguns velhos amigos https://t.co/odkaE2Ya5n\n",
      "\n",
      "7. Tweet ID: 1949639552869519608\n",
      "   Teks    : RT @arin1862: omfg this art would have made numbers if it came before nod krai trailer 😭😭😭\n",
      "\n",
      "8. Tweet ID: 1949639551569584386\n",
      "   Teks    : RT @arin1862: omfg this art would have made numbers if it came before nod krai trailer 😭😭😭\n",
      "\n",
      "9. Tweet ID: 1949639277438009710\n",
      "   Teks    : RT @lightkeepcr: 'kay so since im back in genshin, to this acc, &amp; im too hyped for nod krai\n",
      "\n",
      "✿ 2 welkin giveaway ✿\n",
      "\n",
      "RULES:\n",
      "๑ like and retwe…\n",
      "\n",
      "10. Tweet ID: 1949638584136572970\n",
      "   Teks    : RT @eannagram: Morbidly curious how they’re gonna navigate Scara’s very serious high stakes plot in Nod Krai without him getting called fuc…\n",
      "\n"
     ]
    }
   ],
   "source": [
    "# Tampilkan hasil\n",
    "if response.status_code == 200:\n",
    "    tweets = response.json().get(\"data\", [])\n",
    "    if not tweets:\n",
    "        print(\"Tidak ada tweet yang ditemukan.\")\n",
    "    else:\n",
    "        for i, tweet in enumerate(tweets, 1):\n",
    "            print(f\"{i}. Tweet ID: {tweet['id']}\")\n",
    "            print(f\"   Teks    : {tweet['text']}\\n\")\n",
    "else:\n",
    "    print(\"Gagal mengambil data:\", response.status_code)\n",
    "    print(response.text)"
   ]
  }
 ],
 "metadata": {
  "kernelspec": {
   "display_name": "Python 3",
   "language": "python",
   "name": "python3"
  },
  "language_info": {
   "codemirror_mode": {
    "name": "ipython",
    "version": 3
   },
   "file_extension": ".py",
   "mimetype": "text/x-python",
   "name": "python",
   "nbconvert_exporter": "python",
   "pygments_lexer": "ipython3",
   "version": "3.13.5"
  }
 },
 "nbformat": 4,
 "nbformat_minor": 5
}

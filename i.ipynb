{
 "cells": [
  {
   "cell_type": "code",
   "execution_count": 1,
   "id": "d4daa3f7",
   "metadata": {},
   "outputs": [],
   "source": [
    "import pandas as pd"
   ]
  },
  {
   "cell_type": "code",
   "execution_count": 2,
   "id": "112547e3",
   "metadata": {},
   "outputs": [],
   "source": [
    "df = pd.read_csv('shopee_reviews_clean.csv')"
   ]
  },
  {
   "cell_type": "code",
   "execution_count": null,
   "id": "77a88a71",
   "metadata": {},
   "outputs": [
    {
     "data": {
      "text/html": [
       "<div>\n",
       "<style scoped>\n",
       "    .dataframe tbody tr th:only-of-type {\n",
       "        vertical-align: middle;\n",
       "    }\n",
       "\n",
       "    .dataframe tbody tr th {\n",
       "        vertical-align: top;\n",
       "    }\n",
       "\n",
       "    .dataframe thead th {\n",
       "        text-align: right;\n",
       "    }\n",
       "</style>\n",
       "<table border=\"1\" class=\"dataframe\">\n",
       "  <thead>\n",
       "    <tr style=\"text-align: right;\">\n",
       "      <th></th>\n",
       "      <th>content</th>\n",
       "      <th>score</th>\n",
       "      <th>clean_review</th>\n",
       "    </tr>\n",
       "  </thead>\n",
       "  <tbody>\n",
       "    <tr>\n",
       "      <th>0</th>\n",
       "      <td>Barang sesuai dengan deskripsi, bahan 0k sanga...</td>\n",
       "      <td>5</td>\n",
       "      <td>barang sesuai dengan deskripsi bahan k sangat ...</td>\n",
       "    </tr>\n",
       "    <tr>\n",
       "      <th>1</th>\n",
       "      <td>ini pihak shopee ngga mempertimbangkan keluhan...</td>\n",
       "      <td>2</td>\n",
       "      <td>ini pihak shopee ngga timbang keluh cust kah b...</td>\n",
       "    </tr>\n",
       "    <tr>\n",
       "      <th>2</th>\n",
       "      <td>bagus sih aplikasinya.. klu bisa di tingkat ka...</td>\n",
       "      <td>4</td>\n",
       "      <td>bagus sih aplikasi klu bisa di tingkat kan lag...</td>\n",
       "    </tr>\n",
       "    <tr>\n",
       "      <th>3</th>\n",
       "      <td>Pengalaman untuk pembelian di Shopee ini bagus...</td>\n",
       "      <td>5</td>\n",
       "      <td>alam untuk beli di shopee ini bagus dan sana c...</td>\n",
       "    </tr>\n",
       "    <tr>\n",
       "      <th>4</th>\n",
       "      <td>Buka aplikasi langsung autoplay video orang te...</td>\n",
       "      <td>1</td>\n",
       "      <td>buka aplikasi langsung autoplay video orang te...</td>\n",
       "    </tr>\n",
       "  </tbody>\n",
       "</table>\n",
       "</div>"
      ],
      "text/plain": [
       "                                             content  score  \\\n",
       "0  Barang sesuai dengan deskripsi, bahan 0k sanga...      5   \n",
       "1  ini pihak shopee ngga mempertimbangkan keluhan...      2   \n",
       "2  bagus sih aplikasinya.. klu bisa di tingkat ka...      4   \n",
       "3  Pengalaman untuk pembelian di Shopee ini bagus...      5   \n",
       "4  Buka aplikasi langsung autoplay video orang te...      1   \n",
       "\n",
       "                                        clean_review  \n",
       "0  barang sesuai dengan deskripsi bahan k sangat ...  \n",
       "1  ini pihak shopee ngga timbang keluh cust kah b...  \n",
       "2  bagus sih aplikasi klu bisa di tingkat kan lag...  \n",
       "3  alam untuk beli di shopee ini bagus dan sana c...  \n",
       "4  buka aplikasi langsung autoplay video orang te...  "
      ]
     },
     "execution_count": 3,
     "metadata": {},
     "output_type": "execute_result"
    }
   ],
   "source": [
    "df.head()  # Display the first few rows of the DataFrame\n"
   ]
  },
  {
   "cell_type": "code",
   "execution_count": 4,
   "id": "987623fd",
   "metadata": {},
   "outputs": [],
   "source": [
    "def label_sentiment(rating):\n",
    "    if rating <= 2:\n",
    "        return \"negatif\"\n",
    "    elif rating == 3:\n",
    "        return \"netral\"\n",
    "    else:\n",
    "        return \"positif\"\n",
    "\n",
    "df['label'] = df['score'].apply(label_sentiment)"
   ]
  },
  {
   "cell_type": "code",
   "execution_count": 5,
   "id": "22891343",
   "metadata": {},
   "outputs": [],
   "source": [
    "from sklearn.preprocessing import LabelEncoder\n",
    "\n",
    "le = LabelEncoder()\n",
    "df['label_enc'] = le.fit_transform(df['label'])\n"
   ]
  },
  {
   "cell_type": "code",
   "execution_count": 7,
   "id": "4ab5c933",
   "metadata": {},
   "outputs": [],
   "source": [
    "from tensorflow.keras.preprocessing.text import Tokenizer\n",
    "from tensorflow.keras.preprocessing.sequence import pad_sequences\n",
    "\n",
    "# Fill missing values in 'clean_review' with empty string\n",
    "df['clean_review'] = df['clean_review'].fillna('')\n",
    "\n",
    "tokenizer = Tokenizer(num_words=5000, oov_token='<OOV>')\n",
    "tokenizer.fit_on_texts(df['clean_review'])\n",
    "\n",
    "sequences = tokenizer.texts_to_sequences(df['clean_review'])\n",
    "padded = pad_sequences(sequences, maxlen=100, padding='post', truncating='post')\n"
   ]
  },
  {
   "cell_type": "code",
   "execution_count": 8,
   "id": "06711357",
   "metadata": {},
   "outputs": [],
   "source": [
    "from tensorflow.keras.models import Model\n",
    "from tensorflow.keras.layers import Input, Embedding, Conv1D, GlobalMaxPooling1D, Dense, Dropout, Concatenate\n",
    "\n",
    "input_layer = Input(shape=(100,))\n",
    "embedding_layer = Embedding(input_dim=5000, output_dim=100)(input_layer)\n",
    "\n",
    "conv_3 = Conv1D(128, 3, activation='relu')(embedding_layer)\n",
    "conv_4 = Conv1D(128, 4, activation='relu')(embedding_layer)\n",
    "conv_5 = Conv1D(128, 5, activation='relu')(embedding_layer)\n",
    "\n",
    "pool_3 = GlobalMaxPooling1D()(conv_3)\n",
    "pool_4 = GlobalMaxPooling1D()(conv_4)\n",
    "pool_5 = GlobalMaxPooling1D()(conv_5)\n",
    "\n",
    "concat = Concatenate()([pool_3, pool_4, pool_5])\n",
    "drop = Dropout(0.5)(concat)\n",
    "dense = Dense(64, activation='relu')(drop)\n",
    "output = Dense(3, activation='softmax')(dense)  # 3 kelas\n",
    "\n",
    "model = Model(inputs=input_layer, outputs=output)\n",
    "model.compile(loss='sparse_categorical_crossentropy', optimizer='adam', metrics=['accuracy'])\n"
   ]
  },
  {
   "cell_type": "code",
   "execution_count": 9,
   "id": "90172940",
   "metadata": {},
   "outputs": [
    {
     "name": "stdout",
     "output_type": "stream",
     "text": [
      "Epoch 1/10\n",
      "\u001b[1m2025/2025\u001b[0m \u001b[32m━━━━━━━━━━━━━━━━━━━━\u001b[0m\u001b[37m\u001b[0m \u001b[1m43s\u001b[0m 20ms/step - accuracy: 0.7802 - loss: 0.5705 - val_accuracy: 0.8024 - val_loss: 0.5153\n",
      "Epoch 2/10\n",
      "\u001b[1m2025/2025\u001b[0m \u001b[32m━━━━━━━━━━━━━━━━━━━━\u001b[0m\u001b[37m\u001b[0m \u001b[1m40s\u001b[0m 20ms/step - accuracy: 0.8107 - loss: 0.4975 - val_accuracy: 0.8065 - val_loss: 0.5048\n",
      "Epoch 3/10\n",
      "\u001b[1m2025/2025\u001b[0m \u001b[32m━━━━━━━━━━━━━━━━━━━━\u001b[0m\u001b[37m\u001b[0m \u001b[1m39s\u001b[0m 19ms/step - accuracy: 0.8243 - loss: 0.4579 - val_accuracy: 0.8064 - val_loss: 0.5079\n",
      "Epoch 4/10\n",
      "\u001b[1m2025/2025\u001b[0m \u001b[32m━━━━━━━━━━━━━━━━━━━━\u001b[0m\u001b[37m\u001b[0m \u001b[1m40s\u001b[0m 20ms/step - accuracy: 0.8369 - loss: 0.4190 - val_accuracy: 0.8022 - val_loss: 0.5279\n",
      "Epoch 5/10\n",
      "\u001b[1m2025/2025\u001b[0m \u001b[32m━━━━━━━━━━━━━━━━━━━━\u001b[0m\u001b[37m\u001b[0m \u001b[1m40s\u001b[0m 20ms/step - accuracy: 0.8509 - loss: 0.3794 - val_accuracy: 0.7981 - val_loss: 0.5731\n",
      "Epoch 6/10\n",
      "\u001b[1m2025/2025\u001b[0m \u001b[32m━━━━━━━━━━━━━━━━━━━━\u001b[0m\u001b[37m\u001b[0m \u001b[1m40s\u001b[0m 20ms/step - accuracy: 0.8664 - loss: 0.3389 - val_accuracy: 0.7888 - val_loss: 0.5931\n",
      "Epoch 7/10\n",
      "\u001b[1m2025/2025\u001b[0m \u001b[32m━━━━━━━━━━━━━━━━━━━━\u001b[0m\u001b[37m\u001b[0m \u001b[1m43s\u001b[0m 21ms/step - accuracy: 0.8807 - loss: 0.3016 - val_accuracy: 0.7798 - val_loss: 0.6556\n",
      "Epoch 8/10\n",
      "\u001b[1m2025/2025\u001b[0m \u001b[32m━━━━━━━━━━━━━━━━━━━━\u001b[0m\u001b[37m\u001b[0m \u001b[1m46s\u001b[0m 23ms/step - accuracy: 0.8955 - loss: 0.2688 - val_accuracy: 0.7691 - val_loss: 0.7410\n",
      "Epoch 9/10\n",
      "\u001b[1m2025/2025\u001b[0m \u001b[32m━━━━━━━━━━━━━━━━━━━━\u001b[0m\u001b[37m\u001b[0m \u001b[1m43s\u001b[0m 21ms/step - accuracy: 0.9067 - loss: 0.2397 - val_accuracy: 0.7724 - val_loss: 0.7733\n",
      "Epoch 10/10\n",
      "\u001b[1m2025/2025\u001b[0m \u001b[32m━━━━━━━━━━━━━━━━━━━━\u001b[0m\u001b[37m\u001b[0m \u001b[1m41s\u001b[0m 20ms/step - accuracy: 0.9168 - loss: 0.2128 - val_accuracy: 0.7677 - val_loss: 0.8586\n"
     ]
    }
   ],
   "source": [
    "from sklearn.model_selection import train_test_split\n",
    "\n",
    "X_train, X_test, y_train, y_test = train_test_split(padded, df['label_enc'], test_size=0.2, stratify=df['label_enc'])\n",
    "\n",
    "history = model.fit(X_train, y_train, epochs=10, batch_size=32, validation_data=(X_test, y_test))\n"
   ]
  },
  {
   "cell_type": "code",
   "execution_count": 10,
   "id": "cf3ffa7a",
   "metadata": {},
   "outputs": [
    {
     "name": "stdout",
     "output_type": "stream",
     "text": [
      "\u001b[1m507/507\u001b[0m \u001b[32m━━━━━━━━━━━━━━━━━━━━\u001b[0m\u001b[37m\u001b[0m \u001b[1m3s\u001b[0m 5ms/step - accuracy: 0.7677 - loss: 0.8586\n",
      "Akurasi: 76.77%\n"
     ]
    }
   ],
   "source": [
    "loss, acc = model.evaluate(X_test, y_test)\n",
    "print(f\"Akurasi: {acc * 100:.2f}%\")\n"
   ]
  },
  {
   "cell_type": "code",
   "execution_count": 11,
   "id": "28c5937e",
   "metadata": {},
   "outputs": [
    {
     "data": {
      "image/png": "[encoded data removed]",
      "text/plain": [
       "<Figure size 640x480 with 1 Axes>"
      ]
     },
     "metadata": {},
     "output_type": "display_data"
    }
   ],
   "source": [
    "import matplotlib.pyplot as plt\n",
    "\n",
    "plt.plot(history.history['accuracy'], label='Train Acc')\n",
    "plt.plot(history.history['val_accuracy'], label='Val Acc')\n",
    "plt.legend()\n",
    "plt.title(\"Akurasi per Epoch\")\n",
    "plt.show()"
   ]
  },
  {
   "cell_type": "code",
   "execution_count": 13,
   "id": "7ff326ed",
   "metadata": {},
   "outputs": [
    {
     "name": "stdout",
     "output_type": "stream",
     "text": [
      "\u001b[1m507/507\u001b[0m \u001b[32m━━━━━━━━━━━━━━━━━━━━\u001b[0m\u001b[37m\u001b[0m \u001b[1m3s\u001b[0m 5ms/step\n",
      "              precision    recall  f1-score   support\n",
      "\n",
      "     negatif       0.75      0.82      0.78      6641\n",
      "      netral       0.20      0.16      0.18      1419\n",
      "     positif       0.86      0.83      0.85      8140\n",
      "\n",
      "    accuracy                           0.77     16200\n",
      "   macro avg       0.61      0.60      0.60     16200\n",
      "weighted avg       0.76      0.77      0.76     16200\n",
      "\n"
     ]
    },
    {
     "data": {
      "text/plain": [
       "<Axes: >"
      ]
     },
     "execution_count": 13,
     "metadata": {},
     "output_type": "execute_result"
    },
    {
     "data": {
      "image/png": "[encoded data removed]",
      "text/plain": [
       "<Figure size 640x480 with 2 Axes>"
      ]
     },
     "metadata": {},
     "output_type": "display_data"
    }
   ],
   "source": [
    "from sklearn.metrics import classification_report, confusion_matrix\n",
    "import seaborn as sns\n",
    "\n",
    "y_pred = model.predict(X_test)\n",
    "y_pred_classes = y_pred.argmax(axis=1)\n",
    "\n",
    "print(classification_report(y_test, y_pred_classes, target_names=le.classes_))\n",
    "\n",
    "sns.heatmap(confusion_matrix(y_test, y_pred_classes), annot=True, fmt='d', xticklabels=le.classes_, yticklabels=le.classes_)\n"
   ]
  }
 ],
 "metadata": {
  "kernelspec": {
   "display_name": "Python 3",
   "language": "python",
   "name": "python3"
  },
  "language_info": {
   "codemirror_mode": {
    "name": "ipython",
    "version": 3
   },
   "file_extension": ".py",
   "mimetype": "text/x-python",
   "name": "python",
   "nbconvert_exporter": "python",
   "pygments_lexer": "ipython3",
   "version": "3.13.5"
  }
 },
 "nbformat": 4,
 "nbformat_minor": 5
}

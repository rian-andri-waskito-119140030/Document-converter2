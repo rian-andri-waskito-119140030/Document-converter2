{
 "cells": [
  {
   "cell_type": "code",
   "execution_count": 7,
   "id": "17717b91",
   "metadata": {},
   "outputs": [],
   "source": [
    "import json\n",
    "import pandas as pd"
   ]
  },
  {
   "cell_type": "code",
   "execution_count": 8,
   "id": "1fefc810",
   "metadata": {},
   "outputs": [],
   "source": [
    "# Baca file JSON lokal\n",
    "with open('anime_full_data.json', 'r', encoding='utf-8') as f:\n",
    "    raw_data = json.load(f)"
   ]
  },
  {
   "cell_type": "code",
   "execution_count": 11,
   "id": "851ce4e0",
   "metadata": {},
   "outputs": [],
   "source": [
    "# Ambil daftar data anime dari struktur list of {\"data\": {...}}\n",
    "anime_list = [item['data'] for item in raw_data if 'data' in item]"
   ]
  },
  {
   "cell_type": "code",
   "execution_count": null,
   "id": "eb5195c4",
   "metadata": {},
   "outputs": [],
   "source": [
    "# Fungsi untuk mengekstrak dan flatten 1 entri anime\n",
    "def extract_anime_info(anime):\n",
    "    return {\n",
    "        'mal_id': anime.get('mal_id'),\n",
    "        'url': anime.get('url'),\n",
    "        'title': anime.get('title'),\n",
    "        'title_english': anime.get('title_english'),\n",
    "        'title_japanese': anime.get('title_japanese'),\n",
    "        'title_synonyms': ', '.join(anime.get('title_synonyms', [])),\n",
    "        'type': anime.get('type'),\n",
    "        'source': anime.get('source'),\n",
    "        'episodes': anime.get('episodes'),\n",
    "        'status': anime.get('status'),\n",
    "        'start_date': anime.get('aired', {}).get('from'),\n",
    "        'end_date': anime.get('aired', {}).get('to'),\n",
    "        'duration': anime.get('duration'),\n",
    "        'rating': anime.get('rating'),\n",
    "        'score': anime.get('score'),\n",
    "        'scored_by': anime.get('scored_by'),\n",
    "        'rank': anime.get('rank'),\n",
    "        'popularity': anime.get('popularity'),\n",
    "        'members': anime.get('members'),\n",
    "        'favorites': anime.get('favorites'),\n",
    "        'genres': ', '.join([g['name'] for g in anime.get('genres', [])]),\n",
    "        'themes': ', '.join([t['name'] for t in anime.get('themes', [])]),\n",
    "        'demographics': ', '.join([d['name'] for d in anime.get('demographics', [])]),\n",
    "        'studio': ', '.join([s['name'] for s in anime.get('studios', [])]),\n",
    "        'producer': ', '.join([p['name'] for p in anime.get('producers', [])]),\n",
    "        'licensor': ', '.join([l['name'] for l in anime.get('licensors', [])]),\n",
    "        'synopsis': anime['synopsis'].replace('\\n', ' ')[:500] if anime.get('synopsis') else '',\n",
    "        'background': anime['background'].replace('\\n', ' ')[:500] if anime.get('background') else '',\n",
    "        'season': anime.get('season'),\n",
    "        'year': anime.get('year'),\n",
    "        'broadcast': anime.get('broadcast', {}).get('string'),\n",
    "        'opening_themes': ', '.join(anime.get('theme', {}).get('openings', [])),\n",
    "        'ending_themes': ', '.join(anime.get('theme', {}).get('endings', [])),\n",
    "        'official_sites': ', '.join([e['url'] for e in anime.get('external', [])]),\n",
    "        'streaming_platforms': ', '.join([s['name'] for s in anime.get('streaming', [])]),\n",
    "    }"
   ]
  },
  {
   "cell_type": "code",
   "execution_count": 15,
   "id": "4f025bf2",
   "metadata": {},
   "outputs": [],
   "source": [
    "# Terapkan ke semua entri\n",
    "flattened_data = [extract_anime_info(anime) for anime in anime_list]"
   ]
  },
  {
   "cell_type": "code",
   "execution_count": 16,
   "id": "88bfec40",
   "metadata": {},
   "outputs": [],
   "source": [
    "# Buat DataFrame\n",
    "df = pd.DataFrame(flattened_data)"
   ]
  },
  {
   "cell_type": "code",
   "execution_count": 17,
   "id": "6d8666e3",
   "metadata": {},
   "outputs": [],
   "source": [
    "# Simpan ke CSV\n",
    "df.to_csv('anime_data.csv', index=False, encoding='utf-8-sig')"
   ]
  }
 ],
 "metadata": {
  "kernelspec": {
   "display_name": "Python 3",
   "language": "python",
   "name": "python3"
  },
  "language_info": {
   "codemirror_mode": {
    "name": "ipython",
    "version": 3
   },
   "file_extension": ".py",
   "mimetype": "text/x-python",
   "name": "python",
   "nbconvert_exporter": "python",
   "pygments_lexer": "ipython3",
   "version": "3.13.5"
  }
 },
 "nbformat": 4,
 "nbformat_minor": 5
}
